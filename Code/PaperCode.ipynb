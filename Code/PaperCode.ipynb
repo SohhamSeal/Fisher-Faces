{
  "nbformat": 4,
  "nbformat_minor": 0,
  "metadata": {
    "colab": {
      "provenance": []
    },
    "kernelspec": {
      "name": "python3",
      "display_name": "Python 3"
    },
    "language_info": {
      "name": "python"
    }
  },
  "cells": [
    {
      "cell_type": "markdown",
      "source": [
        "## Library Imports and Variable Declarations:"
      ],
      "metadata": {
        "id": "wMOeFnj2yskY"
      }
    },
    {
      "cell_type": "code",
      "source": [
        "import numpy as np\n",
        "from PIL import Image\n",
        "import os\n",
        "import random\n",
        "import copy"
      ],
      "metadata": {
        "id": "bo3m6nzIP3ox"
      },
      "execution_count": null,
      "outputs": []
    },
    {
      "cell_type": "code",
      "source": [
        "Z = 17 # (Input)\n",
        "C = 10 # (Input)\n",
        "M = N = 60 # image size (Input)\n",
        "\n",
        "K = 0 # Stores the total number of images used\n",
        "D = M ** 2 # Dimension of a flattened image\n",
        "\n",
        "# Celeb dictionary to use for class creation\n",
        "celeb_dict = {\"Angelina Jolie\" : 1, \"Brad Pitt\" : 2, \"Denzel Washington\" : 3, \"Hugh Jackman\" : 4, \"Jennifer Lawrence\" : 5, \"Johnny Depp\" : 6, \"Kate Winslet\" : 7, \"Leonardo DiCaprio\" : 8, \"Megan Fox\" : 9, \"Natalie Portman\" : 10, \"Nicole Kidman\" : 11, \"Robert Downey Jr\" : 12, \"Sandra Bullock\" : 13, \"Scarlett Johansson\" : 14, \"Tom Cruise\" : 15, \"Tom Hanks\" : 16, \"Will Smith\" : 17}"
      ],
      "metadata": {
        "id": "tW-F-XAnPEac"
      },
      "execution_count": null,
      "outputs": []
    },
    {
      "cell_type": "markdown",
      "source": [
        "## Image Matrix Construction:"
      ],
      "metadata": {
        "id": "jWp1EdpJyyJu"
      }
    },
    {
      "cell_type": "code",
      "source": [
        "location = '/content/drive/MyDrive/Cropped Celebrity Faces Dataset' # (Input)\n",
        "\n",
        "Image_Mat = np.zeros((D,1)) # Default numpy array\n",
        "Celeb_Name = []\n",
        "\n",
        "# Iterating through the directory of folders (celeb names)\n",
        "for celeb in os.listdir(location):\n",
        "    celeb_path = os.path.join(location, celeb)\n",
        "    if not os.path.isdir(celeb_path):\n",
        "        continue  # Skip if the item in the directory is not a folder\n",
        "\n",
        "    files = [f for f in os.listdir(celeb_path) if os.path.isfile(os.path.join(celeb_path, f))]\n",
        "\n",
        "    # Use min() to avoid going beyond the available indices\n",
        "    selected_files = random.sample(files, min(len(files), C))  # Unbalanced dataset alert!!\n",
        "\n",
        "    for selected_file in selected_files:\n",
        "        Celeb_Name.append(celeb_dict[celeb]) # Form the Y train dataset\n",
        "\n",
        "        # Open, resize and append the face image\n",
        "        face_path = os.path.join(celeb_path, selected_file)\n",
        "        face_image = Image.open(face_path).convert(\"L\")  # Convert to grayscale\n",
        "        resized_face_image = face_image.resize((M, N))\n",
        "        # Row-major flattening and convertion into column vector\n",
        "        img_array = np.array(resized_face_image).flatten().reshape((D,1))\n",
        "        Image_Mat = np.append(Image_Mat, img_array, axis=1)\n",
        "\n",
        "        K+=1 # Increment the counter for total number of images\n",
        "\n",
        "Image_Mat = Image_Mat[:,1:]\n",
        "Celeb_Name = np.array(Celeb_Name)"
      ],
      "metadata": {
        "id": "vxJE7Nf0Eht_"
      },
      "execution_count": null,
      "outputs": []
    },
    {
      "cell_type": "code",
      "source": [
        "# def view(A,size,n):\n",
        "#   '''\n",
        "#   Display the 'n'-th image (column) from the 'A' matrix\n",
        "\n",
        "#   n: number less than len(A)\n",
        "#   A: Matrix of Image Column-Wise\n",
        "#   '''\n",
        "#   reshaped_image = A[:,n].reshape(size,size)\n",
        "#   # Convert the reshaped image to a PIL Image\n",
        "#   image = Image.fromarray(reshaped_image.astype('uint8'))\n",
        "#   display(image)\n",
        "\n",
        "# val=6\n",
        "# view(Image_Mat,M,val)\n",
        "# print(Celeb_Name[val])"
      ],
      "metadata": {
        "id": "nJW6svBQGqPO"
      },
      "execution_count": null,
      "outputs": []
    },
    {
      "cell_type": "markdown",
      "source": [
        "## Computation of Class-Specific Mean Vectors:"
      ],
      "metadata": {
        "id": "e_U-20cUy3m-"
      }
    },
    {
      "cell_type": "code",
      "source": [
        "mean_class_vectors = [] # List of Class-Specific Mean Vectors\n",
        "class_matrices = [] # List of Class Matrices\n",
        "\n",
        "for i in range(0,Z):\n",
        "  class_matrices.append(np.copy(Image_Mat[:, i*C:(i+1)*C]))\n",
        "  mean_class_vectors.append(np.mean(class_matrices[i], axis=1, keepdims=True))\n"
      ],
      "metadata": {
        "id": "XMhpffmeGslo"
      },
      "execution_count": null,
      "outputs": []
    },
    {
      "cell_type": "markdown",
      "source": [
        "## Computation of Global Mean Vector:"
      ],
      "metadata": {
        "id": "ya9Qg6Fiy8W6"
      }
    },
    {
      "cell_type": "code",
      "source": [
        "mean_overall = np.mean(Image_Mat, axis=1, keepdims=True)\n",
        "mean_overall.shape"
      ],
      "metadata": {
        "colab": {
          "base_uri": "https://localhost:8080/"
        },
        "id": "Y3u_dQUxD6mp",
        "outputId": "87e0704b-fb46-4e20-fa0e-a6912a7769a3"
      },
      "execution_count": null,
      "outputs": [
        {
          "output_type": "execute_result",
          "data": {
            "text/plain": [
              "(3600, 1)"
            ]
          },
          "metadata": {},
          "execution_count": 7
        }
      ]
    },
    {
      "cell_type": "markdown",
      "source": [
        "## Within-Class Scatter Matrix (S w) Construction:"
      ],
      "metadata": {
        "id": "w1Yk0bcmy_Hy"
      }
    },
    {
      "cell_type": "code",
      "source": [
        "Sw = np.zeros((D,D))\n",
        "\n",
        "for i in range(0,Z):\n",
        "  temp = (class_matrices[i] - mean_class_vectors[i])\n",
        "  Sw += temp @ temp.T\n",
        "\n",
        "Sw.shape"
      ],
      "metadata": {
        "colab": {
          "base_uri": "https://localhost:8080/"
        },
        "id": "4fWolhTISZdL",
        "outputId": "7696e182-1374-40f0-b7ac-9e59d70c9596"
      },
      "execution_count": null,
      "outputs": [
        {
          "output_type": "execute_result",
          "data": {
            "text/plain": [
              "(3600, 3600)"
            ]
          },
          "metadata": {},
          "execution_count": 8
        }
      ]
    },
    {
      "cell_type": "markdown",
      "source": [
        "## Between-Class Scatter Matrix (S b) Construction:"
      ],
      "metadata": {
        "id": "DC7ThYOFJCj6"
      }
    },
    {
      "cell_type": "code",
      "source": [
        "Sb = np.zeros((D,D))\n",
        "\n",
        "for i in range(0,Z):\n",
        "  temp = mean_class_vectors[i] - mean_overall\n",
        "  Sb += temp @ temp.T\n",
        "\n",
        "Sb *= C\n",
        "Sb.shape"
      ],
      "metadata": {
        "colab": {
          "base_uri": "https://localhost:8080/"
        },
        "id": "F9eNn9iSbrFw",
        "outputId": "9ff562e2-1d20-4aac-cbee-e3a97da10a44"
      },
      "execution_count": null,
      "outputs": [
        {
          "output_type": "execute_result",
          "data": {
            "text/plain": [
              "(3600, 3600)"
            ]
          },
          "metadata": {},
          "execution_count": 9
        }
      ]
    },
    {
      "cell_type": "markdown",
      "source": [
        "## Eigenvalue and Eigenvector Computation:"
      ],
      "metadata": {
        "id": "KKL4uIBKJP6l"
      }
    },
    {
      "cell_type": "code",
      "source": [
        "# Calculate the product: Sw-1Sb\n",
        "A = np.linalg.inv(Sw) @ Sb\n",
        "\n",
        "eigenValues, eigenVectors = np.linalg.eig(A)\n",
        "eigenValues = np.real(eigenValues)"
      ],
      "metadata": {
        "id": "gNBlGiE0xQMm"
      },
      "execution_count": null,
      "outputs": []
    },
    {
      "cell_type": "code",
      "source": [
        "idx = eigenValues.argsort()[::-1]\n",
        "eigenValues = eigenValues[idx]\n",
        "eigenVectors = eigenVectors[:, idx]"
      ],
      "metadata": {
        "id": "YkqnFBHs77xw"
      },
      "execution_count": null,
      "outputs": []
    },
    {
      "cell_type": "code",
      "source": [
        "S = 24\n",
        "U = np.copy(eigenVectors[:,:S])"
      ],
      "metadata": {
        "id": "kzYYeIQn9ARU"
      },
      "execution_count": null,
      "outputs": []
    },
    {
      "cell_type": "markdown",
      "source": [
        "## Projection onto S-dimensional subspace:"
      ],
      "metadata": {
        "id": "S4eLtyG6ymME"
      }
    },
    {
      "cell_type": "code",
      "source": [
        "Y = U.T @ Image_Mat"
      ],
      "metadata": {
        "id": "QkMUOCcG-LNq"
      },
      "execution_count": null,
      "outputs": []
    }
  ]
}