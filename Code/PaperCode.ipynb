{
  "cells": [
    {
      "cell_type": "markdown",
      "metadata": {
        "id": "wMOeFnj2yskY"
      },
      "source": [
        "## Library Imports and Variable Declarations:"
      ]
    },
    {
      "cell_type": "code",
      "execution_count": null,
      "metadata": {
        "id": "bo3m6nzIP3ox"
      },
      "outputs": [],
      "source": [
        "import numpy as np\n",
        "from PIL import Image\n",
        "import os\n",
        "import random\n",
        "import copy"
      ]
    },
    {
      "cell_type": "code",
      "execution_count": null,
      "metadata": {
        "id": "tW-F-XAnPEac"
      },
      "outputs": [],
      "source": [
        "Z = 17 # (Input)\n",
        "C = 10 # (Input)\n",
        "M = N = 60 # image size (Input)\n",
        "\n",
        "K = 0 # Stores the total number of images used\n",
        "D = M ** 2 # Dimension of a flattened image\n",
        "\n",
        "# Celeb dictionary to use for class creation\n",
        "celeb_dict = {\"Angelina Jolie\" : 1, \"Brad Pitt\" : 2, \"Denzel Washington\" : 3, \"Hugh Jackman\" : 4, \"Jennifer Lawrence\" : 5, \"Johnny Depp\" : 6, \"Kate Winslet\" : 7, \"Leonardo DiCaprio\" : 8, \"Megan Fox\" : 9, \"Natalie Portman\" : 10, \"Nicole Kidman\" : 11, \"Robert Downey Jr\" : 12, \"Sandra Bullock\" : 13, \"Scarlett Johansson\" : 14, \"Tom Cruise\" : 15, \"Tom Hanks\" : 16, \"Will Smith\" : 17}"
      ]
    },
    {
      "cell_type": "markdown",
      "metadata": {
        "id": "jWp1EdpJyyJu"
      },
      "source": [
        "## Image Matrix Construction:"
      ]
    },
    {
      "cell_type": "code",
      "execution_count": null,
      "metadata": {
        "id": "vxJE7Nf0Eht_"
      },
      "outputs": [],
      "source": [
        "location = '/content/drive/MyDrive/Cropped Celebrity Faces Dataset' # (Input)\n",
        "\n",
        "Image_Mat = np.zeros((D,1)) # Default numpy array\n",
        "Celeb_Name = []\n",
        "\n",
        "# Iterating through the directory of folders (celeb names)\n",
        "for celeb in os.listdir(location):\n",
        "    celeb_path = os.path.join(location, celeb)\n",
        "    if not os.path.isdir(celeb_path):\n",
        "        continue  # Skip if the item in the directory is not a folder\n",
        "\n",
        "    files = [f for f in os.listdir(celeb_path) if os.path.isfile(os.path.join(celeb_path, f))]\n",
        "\n",
        "    # Use min() to avoid going beyond the available indices\n",
        "    selected_files = random.sample(files, min(len(files), C))  # Unbalanced dataset alert!!\n",
        "\n",
        "    for selected_file in selected_files:\n",
        "        Celeb_Name.append(celeb_dict[celeb]) # Form the Y train dataset\n",
        "\n",
        "        # Open, resize and append the face image\n",
        "        face_path = os.path.join(celeb_path, selected_file)\n",
        "        face_image = Image.open(face_path).convert(\"L\")  # Convert to grayscale\n",
        "        resized_face_image = face_image.resize((M, N))\n",
        "        # Row-major flattening and convertion into column vector\n",
        "        img_array = np.array(resized_face_image).flatten().reshape((D,1))\n",
        "        Image_Mat = np.append(Image_Mat, img_array, axis=1)\n",
        "\n",
        "        K+=1 # Increment the counter for total number of images\n",
        "\n",
        "Image_Mat = Image_Mat[:,1:]\n",
        "Celeb_Name = np.array(Celeb_Name)"
      ]
    },
    {
      "cell_type": "code",
      "execution_count": null,
      "metadata": {
        "id": "nJW6svBQGqPO"
      },
      "outputs": [],
      "source": [
        "# def view(A,size,n):\n",
        "#   '''\n",
        "#   Display the 'n'-th image (column) from the 'A' matrix\n",
        "\n",
        "#   n: number less than len(A)\n",
        "#   A: Matrix of Image Column-Wise\n",
        "#   '''\n",
        "#   reshaped_image = A[:,n].reshape(size,size)\n",
        "#   # Convert the reshaped image to a PIL Image\n",
        "#   image = Image.fromarray(reshaped_image.astype('uint8'))\n",
        "#   display(image)\n",
        "\n",
        "# val=6\n",
        "# view(Image_Mat,M,val)\n",
        "# print(Celeb_Name[val])"
      ]
    },
    {
      "cell_type": "markdown",
      "metadata": {
        "id": "e_U-20cUy3m-"
      },
      "source": [
        "## Computation of Class-Specific Mean Vectors:"
      ]
    },
    {
      "cell_type": "code",
      "execution_count": null,
      "metadata": {
        "id": "XMhpffmeGslo"
      },
      "outputs": [],
      "source": [
        "mean_class_vectors = [] # List of Class-Specific Mean Vectors\n",
        "class_matrices = [] # List of Class Matrices\n",
        "\n",
        "for i in range(0,Z):\n",
        "  class_matrices.append(np.copy(Image_Mat[:, i*C:(i+1)*C]))\n",
        "  mean_class_vectors.append(np.mean(class_matrices[i], axis=1, keepdims=True))\n"
      ]
    },
    {
      "cell_type": "markdown",
      "metadata": {
        "id": "ya9Qg6Fiy8W6"
      },
      "source": [
        "## Computation of Global Mean Vector:"
      ]
    },
    {
      "cell_type": "code",
      "execution_count": null,
      "metadata": {
        "colab": {
          "base_uri": "https://localhost:8080/"
        },
        "id": "Y3u_dQUxD6mp",
        "outputId": "87e0704b-fb46-4e20-fa0e-a6912a7769a3"
      },
      "outputs": [
        {
          "data": {
            "text/plain": [
              "(3600, 1)"
            ]
          },
          "execution_count": 7,
          "metadata": {},
          "output_type": "execute_result"
        }
      ],
      "source": [
        "mean_overall = np.mean(Image_Mat, axis=1, keepdims=True)\n",
        "mean_overall.shape"
      ]
    },
    {
      "cell_type": "markdown",
      "metadata": {
        "id": "w1Yk0bcmy_Hy"
      },
      "source": [
        "## Within-Class Scatter Matrix (S w) Construction:"
      ]
    },
    {
      "cell_type": "code",
      "execution_count": null,
      "metadata": {
        "colab": {
          "base_uri": "https://localhost:8080/"
        },
        "id": "4fWolhTISZdL",
        "outputId": "7696e182-1374-40f0-b7ac-9e59d70c9596"
      },
      "outputs": [
        {
          "data": {
            "text/plain": [
              "(3600, 3600)"
            ]
          },
          "execution_count": 8,
          "metadata": {},
          "output_type": "execute_result"
        }
      ],
      "source": [
        "Sw = np.zeros((D,D))\n",
        "\n",
        "for i in range(0,Z):\n",
        "  temp = (class_matrices[i] - mean_class_vectors[i])\n",
        "  Sw += temp @ temp.T\n",
        "\n",
        "Sw.shape"
      ]
    },
    {
      "cell_type": "markdown",
      "metadata": {
        "id": "DC7ThYOFJCj6"
      },
      "source": [
        "## Between-Class Scatter Matrix (S b) Construction:"
      ]
    },
    {
      "cell_type": "code",
      "execution_count": null,
      "metadata": {
        "colab": {
          "base_uri": "https://localhost:8080/"
        },
        "id": "F9eNn9iSbrFw",
        "outputId": "9ff562e2-1d20-4aac-cbee-e3a97da10a44"
      },
      "outputs": [
        {
          "data": {
            "text/plain": [
              "(3600, 3600)"
            ]
          },
          "execution_count": 9,
          "metadata": {},
          "output_type": "execute_result"
        }
      ],
      "source": [
        "Sb = np.zeros((D,D))\n",
        "\n",
        "for i in range(0,Z):\n",
        "  temp = mean_class_vectors[i] - mean_overall\n",
        "  Sb += temp @ temp.T\n",
        "\n",
        "Sb *= C\n",
        "Sb.shape"
      ]
    },
    {
      "cell_type": "markdown",
      "metadata": {
        "id": "KKL4uIBKJP6l"
      },
      "source": [
        "## Eigenvalue and Eigenvector Computation:"
      ]
    },
    {
      "cell_type": "code",
      "execution_count": null,
      "metadata": {
        "id": "gNBlGiE0xQMm"
      },
      "outputs": [],
      "source": [
        "# Calculate the product: Sw-1Sb\n",
        "A = np.linalg.inv(Sw) @ Sb\n",
        "\n",
        "eigenValues, eigenVectors = np.linalg.eig(A)\n",
        "eigenValues = np.real(eigenValues)"
      ]
    },
    {
      "cell_type": "code",
      "execution_count": null,
      "metadata": {
        "id": "YkqnFBHs77xw"
      },
      "outputs": [],
      "source": [
        "idx = eigenValues.argsort()[::-1]\n",
        "eigenValues = eigenValues[idx]\n",
        "eigenVectors = eigenVectors[:, idx]"
      ]
    },
    {
      "cell_type": "code",
      "execution_count": null,
      "metadata": {
        "id": "kzYYeIQn9ARU"
      },
      "outputs": [],
      "source": [
        "S = 24\n",
        "U = np.copy(eigenVectors[:,:S])"
      ]
    },
    {
      "cell_type": "markdown",
      "metadata": {
        "id": "S4eLtyG6ymME"
      },
      "source": [
        "## Projection onto S-dimensional subspace:"
      ]
    },
    {
      "cell_type": "code",
      "execution_count": null,
      "metadata": {
        "id": "QkMUOCcG-LNq"
      },
      "outputs": [],
      "source": [
        "Y = U.T @ Image_Mat"
      ]
    }
  ],
  "metadata": {
    "colab": {
      "provenance": []
    },
    "kernelspec": {
      "display_name": "Python 3",
      "name": "python3"
    },
    "language_info": {
      "name": "python"
    }
  },
  "nbformat": 4,
  "nbformat_minor": 0
}
