{
  "nbformat": 4,
  "nbformat_minor": 0,
  "metadata": {
    "colab": {
      "provenance": []
    },
    "kernelspec": {
      "name": "python3",
      "display_name": "Python 3"
    },
    "language_info": {
      "name": "python"
    }
  },
  "cells": [
    {
      "cell_type": "code",
      "source": [
        "import os\n",
        "import numpy as np\n",
        "from PIL import Image"
      ],
      "metadata": {
        "id": "si7yfREFOEUT"
      },
      "execution_count": null,
      "outputs": []
    },
    {
      "cell_type": "code",
      "source": [
        "location=\"/content/drive/MyDrive/Celebrity Faces Dataset\"\n",
        "save_location=\"/content/drive/MyDrive/Cropped Celebrity Faces Dataset\"\n",
        "\n",
        "# Load the cascade\n",
        "face_cascade = cv2.CascadeClassifier(cv2.data.haarcascades + 'haarcascade_frontalface_default.xml')\n",
        "\n",
        "for celeb in os.listdir(location):\n",
        "  path = os.path.join(location, celeb)\n",
        "  files = [f for f in os.listdir(path) if os.path.isfile(os.path.join(path, f))]\n",
        "\n",
        "  for selected_file in files:\n",
        "    save_path = os.path.join(save_location,celeb,selected_file)\n",
        "    print(save_path)\n",
        "\n",
        "    face_path = os.path.join(path, selected_file)\n",
        "    img = cv2.imread(face_path)\n",
        "\n",
        "    # Convert into grayscale\n",
        "    gray = cv2.cvtColor(img, cv2.COLOR_BGR2GRAY)\n",
        "\n",
        "    # Detect faces\n",
        "    faces = face_cascade.detectMultiScale(gray, 1.5, 4)\n",
        "\n",
        "    # Draw rectangle around the faces and crop the faces\n",
        "    for (x, y, w, h) in faces:\n",
        "        cv2.rectangle(img, (x, y), (x+w, y+h), (255, 255, 255), 0)\n",
        "        faces = img[y:y + h, x:x + w]\n",
        "        cv2.imwrite(save_path, faces)\n",
        "        break"
      ],
      "metadata": {
        "id": "gL6VNyKfN_Tc"
      },
      "execution_count": null,
      "outputs": []
    }
  ]
}