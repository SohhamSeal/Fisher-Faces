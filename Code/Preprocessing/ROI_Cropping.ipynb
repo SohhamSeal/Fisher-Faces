{
  "cells": [
    {
      "cell_type": "code",
      "execution_count": null,
      "metadata": {
        "id": "si7yfREFOEUT"
      },
      "outputs": [],
      "source": [
        "# Import the necessary libraries\n",
        "\n",
        "import os  # For file system operations\n",
        "import cv2  # OpenCV library for computer vision tasks"
      ]
    },
    {
      "cell_type": "code",
      "execution_count": null,
      "metadata": {},
      "outputs": [],
      "source": [
        "def driver(read_loc, save_loc):\n",
        "    '''\n",
        "    Create a new directory for the faces of celebrities aftercropping only the Region Of Interest(ROI) of the faces, using Haar Cascade\n",
        "    read_loc : The (absolute/relative) location in the file system where the image data is stored\n",
        "    save_loc : The (absolute/relative) location in the file system where the new cropped images are to be stored \n",
        "    '''\n",
        "    # Loading the cascade\n",
        "    face_cascade = cv2.CascadeClassifier(cv2.data.haarcascades + 'haarcascade_frontalface_default.xml')\n",
        "    \n",
        "    for celeb in os.listdir(read_loc):\n",
        "        path = os.path.join(read_loc, celeb)\n",
        "        files = [f for f in os.listdir(path) if os.path.isfile(os.path.join(path, f))]\n",
        "\n",
        "        for selected_file in files:\n",
        "            save_path = os.path.join(save_loc,celeb,selected_file)\n",
        "\n",
        "            face_path = os.path.join(path, selected_file)\n",
        "            img = cv2.imread(face_path)\n",
        "\n",
        "            # Convert into grayscale\n",
        "            gray = cv2.cvtColor(img, cv2.COLOR_BGR2GRAY)\n",
        "\n",
        "            # Detect faces\n",
        "            faces = face_cascade.detectMultiScale(gray, 1.5, 4)\n",
        "\n",
        "            # Draw rectangle around the faces and crop the faces\n",
        "            for (x, y, w, h) in faces:\n",
        "                cv2.rectangle(img, (x, y), (x+w, y+h), (255, 255, 255), 0)\n",
        "                faces = img[y : y+h, x : x+w]\n",
        "                cv2.imwrite(save_path, faces)\n",
        "                break # There may be many such images, due to error in the haar cascade, so choose only the first one"
      ]
    },
    {
      "cell_type": "code",
      "execution_count": null,
      "metadata": {
        "id": "gL6VNyKfN_Tc"
      },
      "outputs": [],
      "source": [
        "location=\"/content/drive/MyDrive/Celebrity Faces Dataset\" # Read locaation (Input)\n",
        "save_location=\"/content/drive/MyDrive/Cropped Celebrity Faces Dataset\" # Save location (Input)"
      ]
    },
    {
      "cell_type": "code",
      "execution_count": null,
      "metadata": {},
      "outputs": [],
      "source": [
        "def driver(read_loc, save_loc):\n",
        "    '''\n",
        "    Create a new directory for the faces of celebrities after cropping only the Region Of Interest (ROI) of the faces, using Haar Cascade\n",
        "    read_loc : The (absolute/relative) location in the file system where the image data is stored\n",
        "    save_loc : The (absolute/relative) location in the file system where the new cropped images are to be stored \n",
        "    '''\n",
        "    # Loading the cascade\n",
        "    face_cascade = cv2.CascadeClassifier(cv2.data.haarcascades + 'haarcascade_frontalface_default.xml')\n",
        "    \n",
        "    # Loop through each celebrity's directory in the specified read location\n",
        "    for celeb in os.listdir(read_loc):\n",
        "        path = os.path.join(read_loc, celeb)\n",
        "        files = [f for f in os.listdir(path) if os.path.isfile(os.path.join(path, f))]\n",
        "\n",
        "        # Loop through each image file in the celebrity's directory\n",
        "        for selected_file in files:\n",
        "            save_path = os.path.join(save_loc, celeb, selected_file)\n",
        "\n",
        "            face_path = os.path.join(path, selected_file)\n",
        "            img = cv2.imread(face_path)\n",
        "\n",
        "            # Convert the image into grayscale\n",
        "            gray = cv2.cvtColor(img, cv2.COLOR_BGR2GRAY)\n",
        "\n",
        "            # Detect faces using Haar Cascade\n",
        "            faces = face_cascade.detectMultiScale(gray, 1.5, 4)\n",
        "\n",
        "            # Draw rectangle around the faces and crop the faces\n",
        "            for (x, y, w, h) in faces:\n",
        "                cv2.rectangle(img, (x, y), (x+w, y+h), (255, 255, 255), 0)\n",
        "                faces_roi = img[y : y+h, x : x+w]\n",
        "                \n",
        "                # Save the cropped face to the specified save location\n",
        "                cv2.imwrite(save_path, faces_roi)\n",
        "                \n",
        "                # Break the loop to choose only the first detected face\n",
        "                break  # There may be many such images, due to error in the Haar Cascade, so choose only the first one\n"
      ]
    }
  ],
  "metadata": {
    "colab": {
      "provenance": []
    },
    "kernelspec": {
      "display_name": "Python 3",
      "name": "python3"
    },
    "language_info": {
      "name": "python"
    }
  },
  "nbformat": 4,
  "nbformat_minor": 0
}
